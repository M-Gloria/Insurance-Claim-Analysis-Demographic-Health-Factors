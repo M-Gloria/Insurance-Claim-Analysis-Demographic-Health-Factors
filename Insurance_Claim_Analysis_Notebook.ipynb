{
  "nbformat": 4,
  "nbformat_minor": 0,
  "metadata": {
    "colab": {
      "provenance": [],
      "authorship_tag": "ABX9TyPVFKcyWxKqXycBsfkMEtm/",
      "include_colab_link": true
    },
    "kernelspec": {
      "name": "python3",
      "display_name": "Python 3"
    },
    "language_info": {
      "name": "python"
    }
  },
  "cells": [
    {
      "cell_type": "markdown",
      "metadata": {
        "id": "view-in-github",
        "colab_type": "text"
      },
      "source": [
        "<a href=\"https://colab.research.google.com/github/M-Gloria/Insurance-Claim-Analysis-Demographic-Health-Factors/blob/main/Insurance_Claim_Analysis_Notebook.ipynb\" target=\"_parent\"><img src=\"https://colab.research.google.com/assets/colab-badge.svg\" alt=\"Open In Colab\"/></a>"
      ]
    },
    {
      "cell_type": "markdown",
      "source": [
        "Introduction: \n",
        "\n",
        "The dataset used is *Insurance Claim Analysis: Demographic and Health Factors*. It provides information on insurance claims and the demographic information of patients that make the claims. The dataset is located on Kaggle. \n",
        "\n",
        "The question asked when analyzing this dataset is \"How does pateint demographics affect the amount made in insurance claims?\" \n",
        "\n",
        "There was a focus on patient BMI's, patients with diabetes, and patient claims. The following are the hypothesis that are tested:\n",
        "\n",
        "*Null Hypothesis 1*: There is no correlation between patients BMI and the amount made in insurance claims \n",
        "\n",
        "*Alternative Hypothesis 1*: There is a significant correlation between patien BMI's and the amount made in insurance claims\n",
        "\n",
        "*Null Hypothesis 2*: There is no difference in the average amount in insurance claims for patients that have diabetes as opposed to those who don’t.  \n",
        "*Alternative Hypothesis 2*: There is a significant difference between patients that have diabetes and the amount made in claims as opposed to patients that do not have diabetes  \n",
        "\n",
        "\n",
        "\n",
        "\n",
        "Link to csv: https://drive.google.com/file/d/1xHhRVHU4pQYlnPjp6_nAPhdjHZV4tgUY/view?usp=share_link"
      ],
      "metadata": {
        "id": "3zv_wn-kA3gX"
      }
    },
    {
      "cell_type": "markdown",
      "source": [
        "Import Modules"
      ],
      "metadata": {
        "id": "PVppGywsRKAn"
      }
    },
    {
      "cell_type": "code",
      "source": [
        "import math \n",
        "import pandas as pd\n",
        "from scipy import stats\n",
        "import seaborn as sns \n",
        "import matplotlib.pyplot as plt\n",
        "sns.set()"
      ],
      "metadata": {
        "id": "7lYDHwi2hpjN"
      },
      "execution_count": null,
      "outputs": []
    },
    {
      "cell_type": "markdown",
      "source": [
        "Mount GDrive"
      ],
      "metadata": {
        "id": "uMv3d5T8hoj-"
      }
    },
    {
      "cell_type": "code",
      "execution_count": null,
      "metadata": {
        "colab": {
          "base_uri": "https://localhost:8080/"
        },
        "id": "x2E4oO6V0Rze",
        "outputId": "94ca746e-8505-49fd-ca5f-ec8d68876495"
      },
      "outputs": [
        {
          "output_type": "stream",
          "name": "stdout",
          "text": [
            "Mounted at /content/gdrive\n"
          ]
        }
      ],
      "source": [
        "from google.colab import drive\n",
        "drive.mount('/content/gdrive')"
      ]
    },
    {
      "cell_type": "markdown",
      "source": [
        "Bring in Data.\n",
        "View Dataset features."
      ],
      "metadata": {
        "id": "weu2pLIQG6Mo"
      }
    },
    {
      "cell_type": "code",
      "source": [
        "insurance = pd.read_csv('/content/gdrive/My Drive/insurance.csv')\n",
        "insurance.info()"
      ],
      "metadata": {
        "colab": {
          "base_uri": "https://localhost:8080/"
        },
        "id": "vgFBQrdq0WNS",
        "outputId": "cb000964-6383-4375-949a-7df442a2b361"
      },
      "execution_count": null,
      "outputs": [
        {
          "output_type": "stream",
          "name": "stdout",
          "text": [
            "<class 'pandas.core.frame.DataFrame'>\n",
            "RangeIndex: 1340 entries, 0 to 1339\n",
            "Data columns (total 11 columns):\n",
            " #   Column         Non-Null Count  Dtype  \n",
            "---  ------         --------------  -----  \n",
            " 0   index          1340 non-null   int64  \n",
            " 1   PatientID      1340 non-null   int64  \n",
            " 2   age            1335 non-null   float64\n",
            " 3   gender         1340 non-null   object \n",
            " 4   bmi            1340 non-null   float64\n",
            " 5   bloodpressure  1340 non-null   int64  \n",
            " 6   diabetic       1340 non-null   object \n",
            " 7   children       1340 non-null   int64  \n",
            " 8   smoker         1340 non-null   object \n",
            " 9   region         1337 non-null   object \n",
            " 10  claim          1340 non-null   float64\n",
            "dtypes: float64(3), int64(4), object(4)\n",
            "memory usage: 115.3+ KB\n"
          ]
        }
      ]
    },
    {
      "cell_type": "markdown",
      "source": [
        "Remove null values"
      ],
      "metadata": {
        "id": "5kFkPs0uHBmW"
      }
    },
    {
      "cell_type": "code",
      "source": [
        "insurance.dropna()"
      ],
      "metadata": {
        "colab": {
          "base_uri": "https://localhost:8080/",
          "height": 424
        },
        "id": "y8pQKHq3HCAV",
        "outputId": "cbdb3ee9-5002-4057-b012-69cd178efc18"
      },
      "execution_count": null,
      "outputs": [
        {
          "output_type": "execute_result",
          "data": {
            "text/plain": [
              "      index  PatientID   age  gender   bmi  bloodpressure diabetic  children  \\\n",
              "0         0          1  39.0    male  23.2             91      Yes         0   \n",
              "1         1          2  24.0    male  30.1             87       No         0   \n",
              "7         7          8  19.0    male  41.1            100       No         0   \n",
              "8         8          9  20.0    male  43.0             86       No         0   \n",
              "9         9         10  30.0    male  53.1             97       No         0   \n",
              "...     ...        ...   ...     ...   ...            ...      ...       ...   \n",
              "1335   1335       1336  44.0  female  35.5             88      Yes         0   \n",
              "1336   1336       1337  59.0  female  38.1            120       No         1   \n",
              "1337   1337       1338  30.0    male  34.5             91      Yes         3   \n",
              "1338   1338       1339  37.0    male  30.4            106       No         0   \n",
              "1339   1339       1340  30.0  female  47.4            101       No         0   \n",
              "\n",
              "     smoker     region     claim  \n",
              "0        No  southeast   1121.87  \n",
              "1        No  southeast   1131.51  \n",
              "7        No  northwest   1146.80  \n",
              "8        No  northwest   1149.40  \n",
              "9        No  northwest   1163.46  \n",
              "...     ...        ...       ...  \n",
              "1335    Yes  northwest  55135.40  \n",
              "1336    Yes  northeast  58571.07  \n",
              "1337    Yes  northwest  60021.40  \n",
              "1338    Yes  southeast  62592.87  \n",
              "1339    Yes  southeast  63770.43  \n",
              "\n",
              "[1332 rows x 11 columns]"
            ],
            "text/html": [
              "\n",
              "  <div id=\"df-2d5773ce-2e08-4769-9316-39227fc9f1c3\">\n",
              "    <div class=\"colab-df-container\">\n",
              "      <div>\n",
              "<style scoped>\n",
              "    .dataframe tbody tr th:only-of-type {\n",
              "        vertical-align: middle;\n",
              "    }\n",
              "\n",
              "    .dataframe tbody tr th {\n",
              "        vertical-align: top;\n",
              "    }\n",
              "\n",
              "    .dataframe thead th {\n",
              "        text-align: right;\n",
              "    }\n",
              "</style>\n",
              "<table border=\"1\" class=\"dataframe\">\n",
              "  <thead>\n",
              "    <tr style=\"text-align: right;\">\n",
              "      <th></th>\n",
              "      <th>index</th>\n",
              "      <th>PatientID</th>\n",
              "      <th>age</th>\n",
              "      <th>gender</th>\n",
              "      <th>bmi</th>\n",
              "      <th>bloodpressure</th>\n",
              "      <th>diabetic</th>\n",
              "      <th>children</th>\n",
              "      <th>smoker</th>\n",
              "      <th>region</th>\n",
              "      <th>claim</th>\n",
              "    </tr>\n",
              "  </thead>\n",
              "  <tbody>\n",
              "    <tr>\n",
              "      <th>0</th>\n",
              "      <td>0</td>\n",
              "      <td>1</td>\n",
              "      <td>39.0</td>\n",
              "      <td>male</td>\n",
              "      <td>23.2</td>\n",
              "      <td>91</td>\n",
              "      <td>Yes</td>\n",
              "      <td>0</td>\n",
              "      <td>No</td>\n",
              "      <td>southeast</td>\n",
              "      <td>1121.87</td>\n",
              "    </tr>\n",
              "    <tr>\n",
              "      <th>1</th>\n",
              "      <td>1</td>\n",
              "      <td>2</td>\n",
              "      <td>24.0</td>\n",
              "      <td>male</td>\n",
              "      <td>30.1</td>\n",
              "      <td>87</td>\n",
              "      <td>No</td>\n",
              "      <td>0</td>\n",
              "      <td>No</td>\n",
              "      <td>southeast</td>\n",
              "      <td>1131.51</td>\n",
              "    </tr>\n",
              "    <tr>\n",
              "      <th>7</th>\n",
              "      <td>7</td>\n",
              "      <td>8</td>\n",
              "      <td>19.0</td>\n",
              "      <td>male</td>\n",
              "      <td>41.1</td>\n",
              "      <td>100</td>\n",
              "      <td>No</td>\n",
              "      <td>0</td>\n",
              "      <td>No</td>\n",
              "      <td>northwest</td>\n",
              "      <td>1146.80</td>\n",
              "    </tr>\n",
              "    <tr>\n",
              "      <th>8</th>\n",
              "      <td>8</td>\n",
              "      <td>9</td>\n",
              "      <td>20.0</td>\n",
              "      <td>male</td>\n",
              "      <td>43.0</td>\n",
              "      <td>86</td>\n",
              "      <td>No</td>\n",
              "      <td>0</td>\n",
              "      <td>No</td>\n",
              "      <td>northwest</td>\n",
              "      <td>1149.40</td>\n",
              "    </tr>\n",
              "    <tr>\n",
              "      <th>9</th>\n",
              "      <td>9</td>\n",
              "      <td>10</td>\n",
              "      <td>30.0</td>\n",
              "      <td>male</td>\n",
              "      <td>53.1</td>\n",
              "      <td>97</td>\n",
              "      <td>No</td>\n",
              "      <td>0</td>\n",
              "      <td>No</td>\n",
              "      <td>northwest</td>\n",
              "      <td>1163.46</td>\n",
              "    </tr>\n",
              "    <tr>\n",
              "      <th>...</th>\n",
              "      <td>...</td>\n",
              "      <td>...</td>\n",
              "      <td>...</td>\n",
              "      <td>...</td>\n",
              "      <td>...</td>\n",
              "      <td>...</td>\n",
              "      <td>...</td>\n",
              "      <td>...</td>\n",
              "      <td>...</td>\n",
              "      <td>...</td>\n",
              "      <td>...</td>\n",
              "    </tr>\n",
              "    <tr>\n",
              "      <th>1335</th>\n",
              "      <td>1335</td>\n",
              "      <td>1336</td>\n",
              "      <td>44.0</td>\n",
              "      <td>female</td>\n",
              "      <td>35.5</td>\n",
              "      <td>88</td>\n",
              "      <td>Yes</td>\n",
              "      <td>0</td>\n",
              "      <td>Yes</td>\n",
              "      <td>northwest</td>\n",
              "      <td>55135.40</td>\n",
              "    </tr>\n",
              "    <tr>\n",
              "      <th>1336</th>\n",
              "      <td>1336</td>\n",
              "      <td>1337</td>\n",
              "      <td>59.0</td>\n",
              "      <td>female</td>\n",
              "      <td>38.1</td>\n",
              "      <td>120</td>\n",
              "      <td>No</td>\n",
              "      <td>1</td>\n",
              "      <td>Yes</td>\n",
              "      <td>northeast</td>\n",
              "      <td>58571.07</td>\n",
              "    </tr>\n",
              "    <tr>\n",
              "      <th>1337</th>\n",
              "      <td>1337</td>\n",
              "      <td>1338</td>\n",
              "      <td>30.0</td>\n",
              "      <td>male</td>\n",
              "      <td>34.5</td>\n",
              "      <td>91</td>\n",
              "      <td>Yes</td>\n",
              "      <td>3</td>\n",
              "      <td>Yes</td>\n",
              "      <td>northwest</td>\n",
              "      <td>60021.40</td>\n",
              "    </tr>\n",
              "    <tr>\n",
              "      <th>1338</th>\n",
              "      <td>1338</td>\n",
              "      <td>1339</td>\n",
              "      <td>37.0</td>\n",
              "      <td>male</td>\n",
              "      <td>30.4</td>\n",
              "      <td>106</td>\n",
              "      <td>No</td>\n",
              "      <td>0</td>\n",
              "      <td>Yes</td>\n",
              "      <td>southeast</td>\n",
              "      <td>62592.87</td>\n",
              "    </tr>\n",
              "    <tr>\n",
              "      <th>1339</th>\n",
              "      <td>1339</td>\n",
              "      <td>1340</td>\n",
              "      <td>30.0</td>\n",
              "      <td>female</td>\n",
              "      <td>47.4</td>\n",
              "      <td>101</td>\n",
              "      <td>No</td>\n",
              "      <td>0</td>\n",
              "      <td>Yes</td>\n",
              "      <td>southeast</td>\n",
              "      <td>63770.43</td>\n",
              "    </tr>\n",
              "  </tbody>\n",
              "</table>\n",
              "<p>1332 rows × 11 columns</p>\n",
              "</div>\n",
              "      <button class=\"colab-df-convert\" onclick=\"convertToInteractive('df-2d5773ce-2e08-4769-9316-39227fc9f1c3')\"\n",
              "              title=\"Convert this dataframe to an interactive table.\"\n",
              "              style=\"display:none;\">\n",
              "        \n",
              "  <svg xmlns=\"http://www.w3.org/2000/svg\" height=\"24px\"viewBox=\"0 0 24 24\"\n",
              "       width=\"24px\">\n",
              "    <path d=\"M0 0h24v24H0V0z\" fill=\"none\"/>\n",
              "    <path d=\"M18.56 5.44l.94 2.06.94-2.06 2.06-.94-2.06-.94-.94-2.06-.94 2.06-2.06.94zm-11 1L8.5 8.5l.94-2.06 2.06-.94-2.06-.94L8.5 2.5l-.94 2.06-2.06.94zm10 10l.94 2.06.94-2.06 2.06-.94-2.06-.94-.94-2.06-.94 2.06-2.06.94z\"/><path d=\"M17.41 7.96l-1.37-1.37c-.4-.4-.92-.59-1.43-.59-.52 0-1.04.2-1.43.59L10.3 9.45l-7.72 7.72c-.78.78-.78 2.05 0 2.83L4 21.41c.39.39.9.59 1.41.59.51 0 1.02-.2 1.41-.59l7.78-7.78 2.81-2.81c.8-.78.8-2.07 0-2.86zM5.41 20L4 18.59l7.72-7.72 1.47 1.35L5.41 20z\"/>\n",
              "  </svg>\n",
              "      </button>\n",
              "      \n",
              "  <style>\n",
              "    .colab-df-container {\n",
              "      display:flex;\n",
              "      flex-wrap:wrap;\n",
              "      gap: 12px;\n",
              "    }\n",
              "\n",
              "    .colab-df-convert {\n",
              "      background-color: #E8F0FE;\n",
              "      border: none;\n",
              "      border-radius: 50%;\n",
              "      cursor: pointer;\n",
              "      display: none;\n",
              "      fill: #1967D2;\n",
              "      height: 32px;\n",
              "      padding: 0 0 0 0;\n",
              "      width: 32px;\n",
              "    }\n",
              "\n",
              "    .colab-df-convert:hover {\n",
              "      background-color: #E2EBFA;\n",
              "      box-shadow: 0px 1px 2px rgba(60, 64, 67, 0.3), 0px 1px 3px 1px rgba(60, 64, 67, 0.15);\n",
              "      fill: #174EA6;\n",
              "    }\n",
              "\n",
              "    [theme=dark] .colab-df-convert {\n",
              "      background-color: #3B4455;\n",
              "      fill: #D2E3FC;\n",
              "    }\n",
              "\n",
              "    [theme=dark] .colab-df-convert:hover {\n",
              "      background-color: #434B5C;\n",
              "      box-shadow: 0px 1px 3px 1px rgba(0, 0, 0, 0.15);\n",
              "      filter: drop-shadow(0px 1px 2px rgba(0, 0, 0, 0.3));\n",
              "      fill: #FFFFFF;\n",
              "    }\n",
              "  </style>\n",
              "\n",
              "      <script>\n",
              "        const buttonEl =\n",
              "          document.querySelector('#df-2d5773ce-2e08-4769-9316-39227fc9f1c3 button.colab-df-convert');\n",
              "        buttonEl.style.display =\n",
              "          google.colab.kernel.accessAllowed ? 'block' : 'none';\n",
              "\n",
              "        async function convertToInteractive(key) {\n",
              "          const element = document.querySelector('#df-2d5773ce-2e08-4769-9316-39227fc9f1c3');\n",
              "          const dataTable =\n",
              "            await google.colab.kernel.invokeFunction('convertToInteractive',\n",
              "                                                     [key], {});\n",
              "          if (!dataTable) return;\n",
              "\n",
              "          const docLinkHtml = 'Like what you see? Visit the ' +\n",
              "            '<a target=\"_blank\" href=https://colab.research.google.com/notebooks/data_table.ipynb>data table notebook</a>'\n",
              "            + ' to learn more about interactive tables.';\n",
              "          element.innerHTML = '';\n",
              "          dataTable['output_type'] = 'display_data';\n",
              "          await google.colab.output.renderOutput(dataTable, element);\n",
              "          const docLink = document.createElement('div');\n",
              "          docLink.innerHTML = docLinkHtml;\n",
              "          element.appendChild(docLink);\n",
              "        }\n",
              "      </script>\n",
              "    </div>\n",
              "  </div>\n",
              "  "
            ]
          },
          "metadata": {},
          "execution_count": 19
        }
      ]
    },
    {
      "cell_type": "markdown",
      "source": [
        "Explore Insurance Dataset"
      ],
      "metadata": {
        "id": "h8S7QLmpiEnD"
      }
    },
    {
      "cell_type": "code",
      "source": [
        "insurance.head()"
      ],
      "metadata": {
        "colab": {
          "base_uri": "https://localhost:8080/",
          "height": 206
        },
        "id": "sIeWkExV0WHO",
        "outputId": "bf92484f-1a51-4f38-c2c0-04d0c26726f6"
      },
      "execution_count": null,
      "outputs": [
        {
          "output_type": "execute_result",
          "data": {
            "text/plain": [
              "   index  PatientID   age gender   bmi  bloodpressure diabetic  children  \\\n",
              "0      0          1  39.0   male  23.2             91      Yes         0   \n",
              "1      1          2  24.0   male  30.1             87       No         0   \n",
              "2      2          3   NaN   male  33.3             82      Yes         0   \n",
              "3      3          4   NaN   male  33.7             80       No         0   \n",
              "4      4          5   NaN   male  34.1            100       No         0   \n",
              "\n",
              "  smoker     region    claim  \n",
              "0     No  southeast  1121.87  \n",
              "1     No  southeast  1131.51  \n",
              "2     No  southeast  1135.94  \n",
              "3     No  northwest  1136.40  \n",
              "4     No  northwest  1137.01  "
            ],
            "text/html": [
              "\n",
              "  <div id=\"df-dba7cf9b-c424-4a4d-8a38-01fd485d2194\">\n",
              "    <div class=\"colab-df-container\">\n",
              "      <div>\n",
              "<style scoped>\n",
              "    .dataframe tbody tr th:only-of-type {\n",
              "        vertical-align: middle;\n",
              "    }\n",
              "\n",
              "    .dataframe tbody tr th {\n",
              "        vertical-align: top;\n",
              "    }\n",
              "\n",
              "    .dataframe thead th {\n",
              "        text-align: right;\n",
              "    }\n",
              "</style>\n",
              "<table border=\"1\" class=\"dataframe\">\n",
              "  <thead>\n",
              "    <tr style=\"text-align: right;\">\n",
              "      <th></th>\n",
              "      <th>index</th>\n",
              "      <th>PatientID</th>\n",
              "      <th>age</th>\n",
              "      <th>gender</th>\n",
              "      <th>bmi</th>\n",
              "      <th>bloodpressure</th>\n",
              "      <th>diabetic</th>\n",
              "      <th>children</th>\n",
              "      <th>smoker</th>\n",
              "      <th>region</th>\n",
              "      <th>claim</th>\n",
              "    </tr>\n",
              "  </thead>\n",
              "  <tbody>\n",
              "    <tr>\n",
              "      <th>0</th>\n",
              "      <td>0</td>\n",
              "      <td>1</td>\n",
              "      <td>39.0</td>\n",
              "      <td>male</td>\n",
              "      <td>23.2</td>\n",
              "      <td>91</td>\n",
              "      <td>Yes</td>\n",
              "      <td>0</td>\n",
              "      <td>No</td>\n",
              "      <td>southeast</td>\n",
              "      <td>1121.87</td>\n",
              "    </tr>\n",
              "    <tr>\n",
              "      <th>1</th>\n",
              "      <td>1</td>\n",
              "      <td>2</td>\n",
              "      <td>24.0</td>\n",
              "      <td>male</td>\n",
              "      <td>30.1</td>\n",
              "      <td>87</td>\n",
              "      <td>No</td>\n",
              "      <td>0</td>\n",
              "      <td>No</td>\n",
              "      <td>southeast</td>\n",
              "      <td>1131.51</td>\n",
              "    </tr>\n",
              "    <tr>\n",
              "      <th>2</th>\n",
              "      <td>2</td>\n",
              "      <td>3</td>\n",
              "      <td>NaN</td>\n",
              "      <td>male</td>\n",
              "      <td>33.3</td>\n",
              "      <td>82</td>\n",
              "      <td>Yes</td>\n",
              "      <td>0</td>\n",
              "      <td>No</td>\n",
              "      <td>southeast</td>\n",
              "      <td>1135.94</td>\n",
              "    </tr>\n",
              "    <tr>\n",
              "      <th>3</th>\n",
              "      <td>3</td>\n",
              "      <td>4</td>\n",
              "      <td>NaN</td>\n",
              "      <td>male</td>\n",
              "      <td>33.7</td>\n",
              "      <td>80</td>\n",
              "      <td>No</td>\n",
              "      <td>0</td>\n",
              "      <td>No</td>\n",
              "      <td>northwest</td>\n",
              "      <td>1136.40</td>\n",
              "    </tr>\n",
              "    <tr>\n",
              "      <th>4</th>\n",
              "      <td>4</td>\n",
              "      <td>5</td>\n",
              "      <td>NaN</td>\n",
              "      <td>male</td>\n",
              "      <td>34.1</td>\n",
              "      <td>100</td>\n",
              "      <td>No</td>\n",
              "      <td>0</td>\n",
              "      <td>No</td>\n",
              "      <td>northwest</td>\n",
              "      <td>1137.01</td>\n",
              "    </tr>\n",
              "  </tbody>\n",
              "</table>\n",
              "</div>\n",
              "      <button class=\"colab-df-convert\" onclick=\"convertToInteractive('df-dba7cf9b-c424-4a4d-8a38-01fd485d2194')\"\n",
              "              title=\"Convert this dataframe to an interactive table.\"\n",
              "              style=\"display:none;\">\n",
              "        \n",
              "  <svg xmlns=\"http://www.w3.org/2000/svg\" height=\"24px\"viewBox=\"0 0 24 24\"\n",
              "       width=\"24px\">\n",
              "    <path d=\"M0 0h24v24H0V0z\" fill=\"none\"/>\n",
              "    <path d=\"M18.56 5.44l.94 2.06.94-2.06 2.06-.94-2.06-.94-.94-2.06-.94 2.06-2.06.94zm-11 1L8.5 8.5l.94-2.06 2.06-.94-2.06-.94L8.5 2.5l-.94 2.06-2.06.94zm10 10l.94 2.06.94-2.06 2.06-.94-2.06-.94-.94-2.06-.94 2.06-2.06.94z\"/><path d=\"M17.41 7.96l-1.37-1.37c-.4-.4-.92-.59-1.43-.59-.52 0-1.04.2-1.43.59L10.3 9.45l-7.72 7.72c-.78.78-.78 2.05 0 2.83L4 21.41c.39.39.9.59 1.41.59.51 0 1.02-.2 1.41-.59l7.78-7.78 2.81-2.81c.8-.78.8-2.07 0-2.86zM5.41 20L4 18.59l7.72-7.72 1.47 1.35L5.41 20z\"/>\n",
              "  </svg>\n",
              "      </button>\n",
              "      \n",
              "  <style>\n",
              "    .colab-df-container {\n",
              "      display:flex;\n",
              "      flex-wrap:wrap;\n",
              "      gap: 12px;\n",
              "    }\n",
              "\n",
              "    .colab-df-convert {\n",
              "      background-color: #E8F0FE;\n",
              "      border: none;\n",
              "      border-radius: 50%;\n",
              "      cursor: pointer;\n",
              "      display: none;\n",
              "      fill: #1967D2;\n",
              "      height: 32px;\n",
              "      padding: 0 0 0 0;\n",
              "      width: 32px;\n",
              "    }\n",
              "\n",
              "    .colab-df-convert:hover {\n",
              "      background-color: #E2EBFA;\n",
              "      box-shadow: 0px 1px 2px rgba(60, 64, 67, 0.3), 0px 1px 3px 1px rgba(60, 64, 67, 0.15);\n",
              "      fill: #174EA6;\n",
              "    }\n",
              "\n",
              "    [theme=dark] .colab-df-convert {\n",
              "      background-color: #3B4455;\n",
              "      fill: #D2E3FC;\n",
              "    }\n",
              "\n",
              "    [theme=dark] .colab-df-convert:hover {\n",
              "      background-color: #434B5C;\n",
              "      box-shadow: 0px 1px 3px 1px rgba(0, 0, 0, 0.15);\n",
              "      filter: drop-shadow(0px 1px 2px rgba(0, 0, 0, 0.3));\n",
              "      fill: #FFFFFF;\n",
              "    }\n",
              "  </style>\n",
              "\n",
              "      <script>\n",
              "        const buttonEl =\n",
              "          document.querySelector('#df-dba7cf9b-c424-4a4d-8a38-01fd485d2194 button.colab-df-convert');\n",
              "        buttonEl.style.display =\n",
              "          google.colab.kernel.accessAllowed ? 'block' : 'none';\n",
              "\n",
              "        async function convertToInteractive(key) {\n",
              "          const element = document.querySelector('#df-dba7cf9b-c424-4a4d-8a38-01fd485d2194');\n",
              "          const dataTable =\n",
              "            await google.colab.kernel.invokeFunction('convertToInteractive',\n",
              "                                                     [key], {});\n",
              "          if (!dataTable) return;\n",
              "\n",
              "          const docLinkHtml = 'Like what you see? Visit the ' +\n",
              "            '<a target=\"_blank\" href=https://colab.research.google.com/notebooks/data_table.ipynb>data table notebook</a>'\n",
              "            + ' to learn more about interactive tables.';\n",
              "          element.innerHTML = '';\n",
              "          dataTable['output_type'] = 'display_data';\n",
              "          await google.colab.output.renderOutput(dataTable, element);\n",
              "          const docLink = document.createElement('div');\n",
              "          docLink.innerHTML = docLinkHtml;\n",
              "          element.appendChild(docLink);\n",
              "        }\n",
              "      </script>\n",
              "    </div>\n",
              "  </div>\n",
              "  "
            ]
          },
          "metadata": {},
          "execution_count": 7
        }
      ]
    },
    {
      "cell_type": "code",
      "source": [
        "insurance.describe()"
      ],
      "metadata": {
        "colab": {
          "base_uri": "https://localhost:8080/",
          "height": 300
        },
        "id": "wTzRV_D00WD5",
        "outputId": "20f09b97-182d-474e-8582-7aee037583b2"
      },
      "execution_count": null,
      "outputs": [
        {
          "output_type": "execute_result",
          "data": {
            "text/plain": [
              "             index    PatientID          age          bmi  bloodpressure  \\\n",
              "count  1340.000000  1340.000000  1335.000000  1340.000000    1340.000000   \n",
              "mean    669.500000   670.500000    38.078652    30.668955      94.157463   \n",
              "std     386.968991   386.968991    11.102924     6.106735      11.434712   \n",
              "min       0.000000     1.000000    18.000000    16.000000      80.000000   \n",
              "25%     334.750000   335.750000    29.000000    26.275000      86.000000   \n",
              "50%     669.500000   670.500000    38.000000    30.400000      92.000000   \n",
              "75%    1004.250000  1005.250000    47.000000    34.700000      99.000000   \n",
              "max    1339.000000  1340.000000    60.000000    53.100000     140.000000   \n",
              "\n",
              "          children         claim  \n",
              "count  1340.000000   1340.000000  \n",
              "mean      1.093284  13252.745642  \n",
              "std       1.205334  12109.609288  \n",
              "min       0.000000   1121.870000  \n",
              "25%       0.000000   4719.685000  \n",
              "50%       1.000000   9369.615000  \n",
              "75%       2.000000  16604.305000  \n",
              "max       5.000000  63770.430000  "
            ],
            "text/html": [
              "\n",
              "  <div id=\"df-b652ff5f-fa49-4153-8f6a-bd9b450d0b6d\">\n",
              "    <div class=\"colab-df-container\">\n",
              "      <div>\n",
              "<style scoped>\n",
              "    .dataframe tbody tr th:only-of-type {\n",
              "        vertical-align: middle;\n",
              "    }\n",
              "\n",
              "    .dataframe tbody tr th {\n",
              "        vertical-align: top;\n",
              "    }\n",
              "\n",
              "    .dataframe thead th {\n",
              "        text-align: right;\n",
              "    }\n",
              "</style>\n",
              "<table border=\"1\" class=\"dataframe\">\n",
              "  <thead>\n",
              "    <tr style=\"text-align: right;\">\n",
              "      <th></th>\n",
              "      <th>index</th>\n",
              "      <th>PatientID</th>\n",
              "      <th>age</th>\n",
              "      <th>bmi</th>\n",
              "      <th>bloodpressure</th>\n",
              "      <th>children</th>\n",
              "      <th>claim</th>\n",
              "    </tr>\n",
              "  </thead>\n",
              "  <tbody>\n",
              "    <tr>\n",
              "      <th>count</th>\n",
              "      <td>1340.000000</td>\n",
              "      <td>1340.000000</td>\n",
              "      <td>1335.000000</td>\n",
              "      <td>1340.000000</td>\n",
              "      <td>1340.000000</td>\n",
              "      <td>1340.000000</td>\n",
              "      <td>1340.000000</td>\n",
              "    </tr>\n",
              "    <tr>\n",
              "      <th>mean</th>\n",
              "      <td>669.500000</td>\n",
              "      <td>670.500000</td>\n",
              "      <td>38.078652</td>\n",
              "      <td>30.668955</td>\n",
              "      <td>94.157463</td>\n",
              "      <td>1.093284</td>\n",
              "      <td>13252.745642</td>\n",
              "    </tr>\n",
              "    <tr>\n",
              "      <th>std</th>\n",
              "      <td>386.968991</td>\n",
              "      <td>386.968991</td>\n",
              "      <td>11.102924</td>\n",
              "      <td>6.106735</td>\n",
              "      <td>11.434712</td>\n",
              "      <td>1.205334</td>\n",
              "      <td>12109.609288</td>\n",
              "    </tr>\n",
              "    <tr>\n",
              "      <th>min</th>\n",
              "      <td>0.000000</td>\n",
              "      <td>1.000000</td>\n",
              "      <td>18.000000</td>\n",
              "      <td>16.000000</td>\n",
              "      <td>80.000000</td>\n",
              "      <td>0.000000</td>\n",
              "      <td>1121.870000</td>\n",
              "    </tr>\n",
              "    <tr>\n",
              "      <th>25%</th>\n",
              "      <td>334.750000</td>\n",
              "      <td>335.750000</td>\n",
              "      <td>29.000000</td>\n",
              "      <td>26.275000</td>\n",
              "      <td>86.000000</td>\n",
              "      <td>0.000000</td>\n",
              "      <td>4719.685000</td>\n",
              "    </tr>\n",
              "    <tr>\n",
              "      <th>50%</th>\n",
              "      <td>669.500000</td>\n",
              "      <td>670.500000</td>\n",
              "      <td>38.000000</td>\n",
              "      <td>30.400000</td>\n",
              "      <td>92.000000</td>\n",
              "      <td>1.000000</td>\n",
              "      <td>9369.615000</td>\n",
              "    </tr>\n",
              "    <tr>\n",
              "      <th>75%</th>\n",
              "      <td>1004.250000</td>\n",
              "      <td>1005.250000</td>\n",
              "      <td>47.000000</td>\n",
              "      <td>34.700000</td>\n",
              "      <td>99.000000</td>\n",
              "      <td>2.000000</td>\n",
              "      <td>16604.305000</td>\n",
              "    </tr>\n",
              "    <tr>\n",
              "      <th>max</th>\n",
              "      <td>1339.000000</td>\n",
              "      <td>1340.000000</td>\n",
              "      <td>60.000000</td>\n",
              "      <td>53.100000</td>\n",
              "      <td>140.000000</td>\n",
              "      <td>5.000000</td>\n",
              "      <td>63770.430000</td>\n",
              "    </tr>\n",
              "  </tbody>\n",
              "</table>\n",
              "</div>\n",
              "      <button class=\"colab-df-convert\" onclick=\"convertToInteractive('df-b652ff5f-fa49-4153-8f6a-bd9b450d0b6d')\"\n",
              "              title=\"Convert this dataframe to an interactive table.\"\n",
              "              style=\"display:none;\">\n",
              "        \n",
              "  <svg xmlns=\"http://www.w3.org/2000/svg\" height=\"24px\"viewBox=\"0 0 24 24\"\n",
              "       width=\"24px\">\n",
              "    <path d=\"M0 0h24v24H0V0z\" fill=\"none\"/>\n",
              "    <path d=\"M18.56 5.44l.94 2.06.94-2.06 2.06-.94-2.06-.94-.94-2.06-.94 2.06-2.06.94zm-11 1L8.5 8.5l.94-2.06 2.06-.94-2.06-.94L8.5 2.5l-.94 2.06-2.06.94zm10 10l.94 2.06.94-2.06 2.06-.94-2.06-.94-.94-2.06-.94 2.06-2.06.94z\"/><path d=\"M17.41 7.96l-1.37-1.37c-.4-.4-.92-.59-1.43-.59-.52 0-1.04.2-1.43.59L10.3 9.45l-7.72 7.72c-.78.78-.78 2.05 0 2.83L4 21.41c.39.39.9.59 1.41.59.51 0 1.02-.2 1.41-.59l7.78-7.78 2.81-2.81c.8-.78.8-2.07 0-2.86zM5.41 20L4 18.59l7.72-7.72 1.47 1.35L5.41 20z\"/>\n",
              "  </svg>\n",
              "      </button>\n",
              "      \n",
              "  <style>\n",
              "    .colab-df-container {\n",
              "      display:flex;\n",
              "      flex-wrap:wrap;\n",
              "      gap: 12px;\n",
              "    }\n",
              "\n",
              "    .colab-df-convert {\n",
              "      background-color: #E8F0FE;\n",
              "      border: none;\n",
              "      border-radius: 50%;\n",
              "      cursor: pointer;\n",
              "      display: none;\n",
              "      fill: #1967D2;\n",
              "      height: 32px;\n",
              "      padding: 0 0 0 0;\n",
              "      width: 32px;\n",
              "    }\n",
              "\n",
              "    .colab-df-convert:hover {\n",
              "      background-color: #E2EBFA;\n",
              "      box-shadow: 0px 1px 2px rgba(60, 64, 67, 0.3), 0px 1px 3px 1px rgba(60, 64, 67, 0.15);\n",
              "      fill: #174EA6;\n",
              "    }\n",
              "\n",
              "    [theme=dark] .colab-df-convert {\n",
              "      background-color: #3B4455;\n",
              "      fill: #D2E3FC;\n",
              "    }\n",
              "\n",
              "    [theme=dark] .colab-df-convert:hover {\n",
              "      background-color: #434B5C;\n",
              "      box-shadow: 0px 1px 3px 1px rgba(0, 0, 0, 0.15);\n",
              "      filter: drop-shadow(0px 1px 2px rgba(0, 0, 0, 0.3));\n",
              "      fill: #FFFFFF;\n",
              "    }\n",
              "  </style>\n",
              "\n",
              "      <script>\n",
              "        const buttonEl =\n",
              "          document.querySelector('#df-b652ff5f-fa49-4153-8f6a-bd9b450d0b6d button.colab-df-convert');\n",
              "        buttonEl.style.display =\n",
              "          google.colab.kernel.accessAllowed ? 'block' : 'none';\n",
              "\n",
              "        async function convertToInteractive(key) {\n",
              "          const element = document.querySelector('#df-b652ff5f-fa49-4153-8f6a-bd9b450d0b6d');\n",
              "          const dataTable =\n",
              "            await google.colab.kernel.invokeFunction('convertToInteractive',\n",
              "                                                     [key], {});\n",
              "          if (!dataTable) return;\n",
              "\n",
              "          const docLinkHtml = 'Like what you see? Visit the ' +\n",
              "            '<a target=\"_blank\" href=https://colab.research.google.com/notebooks/data_table.ipynb>data table notebook</a>'\n",
              "            + ' to learn more about interactive tables.';\n",
              "          element.innerHTML = '';\n",
              "          dataTable['output_type'] = 'display_data';\n",
              "          await google.colab.output.renderOutput(dataTable, element);\n",
              "          const docLink = document.createElement('div');\n",
              "          docLink.innerHTML = docLinkHtml;\n",
              "          element.appendChild(docLink);\n",
              "        }\n",
              "      </script>\n",
              "    </div>\n",
              "  </div>\n",
              "  "
            ]
          },
          "metadata": {},
          "execution_count": 8
        }
      ]
    },
    {
      "cell_type": "markdown",
      "source": [
        "Explore the correlation between patient BMI's and patient Claims\n",
        "\n",
        "Null Hypothesis 1:\n",
        "It is hypothesized that there is no correlation between patient BMI's and the amount in insurance claims."
      ],
      "metadata": {
        "id": "FZ5wxQXWi_0i"
      }
    },
    {
      "cell_type": "code",
      "source": [
        "#Create scatterplot visual\n",
        "sns.scatterplot(x= 'bmi', y= 'claim', data=insurance) \n",
        "sns.regplot(x= 'bmi', y= 'claim', data=insurance)"
      ],
      "metadata": {
        "colab": {
          "base_uri": "https://localhost:8080/",
          "height": 476
        },
        "id": "KTxAxOwS0WBG",
        "outputId": "f2bd9806-f09e-4c7b-a1e2-86377ffece47"
      },
      "execution_count": null,
      "outputs": [
        {
          "output_type": "execute_result",
          "data": {
            "text/plain": [
              "<Axes: xlabel='bmi', ylabel='claim'>"
            ]
          },
          "metadata": {},
          "execution_count": 24
        },
        {
          "output_type": "display_data",
          "data": {
            "text/plain": [
              "<Figure size 640x480 with 1 Axes>"
            ],
            "image/png": "[encoded data removed]"
          },
          "metadata": {}
        }
      ]
    },
    {
      "cell_type": "markdown",
      "source": [
        "Conduct Analysis"
      ],
      "metadata": {
        "id": "Y5PkW51ZtI_L"
      }
    },
    {
      "cell_type": "code",
      "source": [
        "# Run pearsonr test\n",
        "stats.pearsonr(insurance['claim'],insurance['bmi'])"
      ],
      "metadata": {
        "colab": {
          "base_uri": "https://localhost:8080/"
        },
        "id": "ZQTch-4J0V9q",
        "outputId": "a99bfa79-8433-43a5-df51-b735dac1f7e3"
      },
      "execution_count": null,
      "outputs": [
        {
          "output_type": "execute_result",
          "data": {
            "text/plain": [
              "PearsonRResult(statistic=0.19740133652071146, pvalue=3.07228503031034e-13)"
            ]
          },
          "metadata": {},
          "execution_count": 10
        }
      ]
    },
    {
      "cell_type": "markdown",
      "source": [
        "Reject the null hypothesis: There is a statistically significant relationship between patient BMI's and patient claims. "
      ],
      "metadata": {
        "id": "VNf3d1PNlgj4"
      }
    },
    {
      "cell_type": "markdown",
      "source": [
        "Explore the difference between patients with and without diabetes and the average amount in claims.\n",
        "\n",
        "Null Hypothesis 2:\n",
        "It is hypothesized that there is no difference in the average amount of claims for patienst with diabetes as opposed to patients who do not have diabetes. "
      ],
      "metadata": {
        "id": "oM7XcRtjwayF"
      }
    },
    {
      "cell_type": "code",
      "source": [
        "# Split the data for a t-test\n",
        "insurance_y = insurance.loc[insurance['diabetic'] == 'Yes']\n",
        "insurance_n = insurance.loc[insurance['diabetic'] == 'No']"
      ],
      "metadata": {
        "id": "6Zw7AHoB0V5P"
      },
      "execution_count": null,
      "outputs": []
    },
    {
      "cell_type": "code",
      "source": [
        "insurance_y.info()\n",
        "insurance_n.info()"
      ],
      "metadata": {
        "colab": {
          "base_uri": "https://localhost:8080/"
        },
        "id": "TWgJik0StbWp",
        "outputId": "54668169-9811-41f2-ad3e-a71962bf1c62"
      },
      "execution_count": null,
      "outputs": [
        {
          "output_type": "stream",
          "name": "stdout",
          "text": [
            "<class 'pandas.core.frame.DataFrame'>\n",
            "Int64Index: 642 entries, 0 to 1337\n",
            "Data columns (total 11 columns):\n",
            " #   Column         Non-Null Count  Dtype  \n",
            "---  ------         --------------  -----  \n",
            " 0   index          642 non-null    int64  \n",
            " 1   PatientID      642 non-null    int64  \n",
            " 2   age            639 non-null    float64\n",
            " 3   gender         642 non-null    object \n",
            " 4   bmi            642 non-null    float64\n",
            " 5   bloodpressure  642 non-null    int64  \n",
            " 6   diabetic       642 non-null    object \n",
            " 7   children       642 non-null    int64  \n",
            " 8   smoker         642 non-null    object \n",
            " 9   region         640 non-null    object \n",
            " 10  claim          642 non-null    float64\n",
            "dtypes: float64(3), int64(4), object(4)\n",
            "memory usage: 60.2+ KB\n",
            "<class 'pandas.core.frame.DataFrame'>\n",
            "Int64Index: 698 entries, 1 to 1339\n",
            "Data columns (total 11 columns):\n",
            " #   Column         Non-Null Count  Dtype  \n",
            "---  ------         --------------  -----  \n",
            " 0   index          698 non-null    int64  \n",
            " 1   PatientID      698 non-null    int64  \n",
            " 2   age            696 non-null    float64\n",
            " 3   gender         698 non-null    object \n",
            " 4   bmi            698 non-null    float64\n",
            " 5   bloodpressure  698 non-null    int64  \n",
            " 6   diabetic       698 non-null    object \n",
            " 7   children       698 non-null    int64  \n",
            " 8   smoker         698 non-null    object \n",
            " 9   region         697 non-null    object \n",
            " 10  claim          698 non-null    float64\n",
            "dtypes: float64(3), int64(4), object(4)\n",
            "memory usage: 65.4+ KB\n"
          ]
        }
      ]
    },
    {
      "cell_type": "code",
      "source": [
        "insurance_y.describe()"
      ],
      "metadata": {
        "colab": {
          "base_uri": "https://localhost:8080/",
          "height": 300
        },
        "id": "0wBlk1axAxNc",
        "outputId": "7059d1c7-90f2-4d70-aeb8-df7b75ea4116"
      },
      "execution_count": null,
      "outputs": [
        {
          "output_type": "execute_result",
          "data": {
            "text/plain": [
              "             index    PatientID         age         bmi  bloodpressure  \\\n",
              "count   642.000000   642.000000  639.000000  642.000000     642.000000   \n",
              "mean    667.700935   668.700935   37.776213   30.433645      94.006231   \n",
              "std     388.674267   388.674267   10.967107    6.112805      11.650124   \n",
              "min       0.000000     1.000000   18.000000   16.800000      80.000000   \n",
              "25%     322.250000   323.250000   29.000000   25.825000      86.000000   \n",
              "50%     674.000000   675.000000   37.000000   30.150000      92.000000   \n",
              "75%     995.750000   996.750000   46.000000   34.200000      99.000000   \n",
              "max    1337.000000  1338.000000   60.000000   50.400000     140.000000   \n",
              "\n",
              "         children         claim  \n",
              "count  642.000000    642.000000  \n",
              "mean     1.074766  13142.624346  \n",
              "std      1.195683  11935.356153  \n",
              "min      0.000000   1121.870000  \n",
              "25%      0.000000   4563.177500  \n",
              "50%      1.000000   9421.970000  \n",
              "75%      2.000000  16107.757500  \n",
              "max      5.000000  60021.400000  "
            ],
            "text/html": [
              "\n",
              "  <div id=\"df-0e8c8a1b-61f2-454f-802c-5d1e31cea459\">\n",
              "    <div class=\"colab-df-container\">\n",
              "      <div>\n",
              "<style scoped>\n",
              "    .dataframe tbody tr th:only-of-type {\n",
              "        vertical-align: middle;\n",
              "    }\n",
              "\n",
              "    .dataframe tbody tr th {\n",
              "        vertical-align: top;\n",
              "    }\n",
              "\n",
              "    .dataframe thead th {\n",
              "        text-align: right;\n",
              "    }\n",
              "</style>\n",
              "<table border=\"1\" class=\"dataframe\">\n",
              "  <thead>\n",
              "    <tr style=\"text-align: right;\">\n",
              "      <th></th>\n",
              "      <th>index</th>\n",
              "      <th>PatientID</th>\n",
              "      <th>age</th>\n",
              "      <th>bmi</th>\n",
              "      <th>bloodpressure</th>\n",
              "      <th>children</th>\n",
              "      <th>claim</th>\n",
              "    </tr>\n",
              "  </thead>\n",
              "  <tbody>\n",
              "    <tr>\n",
              "      <th>count</th>\n",
              "      <td>642.000000</td>\n",
              "      <td>642.000000</td>\n",
              "      <td>639.000000</td>\n",
              "      <td>642.000000</td>\n",
              "      <td>642.000000</td>\n",
              "      <td>642.000000</td>\n",
              "      <td>642.000000</td>\n",
              "    </tr>\n",
              "    <tr>\n",
              "      <th>mean</th>\n",
              "      <td>667.700935</td>\n",
              "      <td>668.700935</td>\n",
              "      <td>37.776213</td>\n",
              "      <td>30.433645</td>\n",
              "      <td>94.006231</td>\n",
              "      <td>1.074766</td>\n",
              "      <td>13142.624346</td>\n",
              "    </tr>\n",
              "    <tr>\n",
              "      <th>std</th>\n",
              "      <td>388.674267</td>\n",
              "      <td>388.674267</td>\n",
              "      <td>10.967107</td>\n",
              "      <td>6.112805</td>\n",
              "      <td>11.650124</td>\n",
              "      <td>1.195683</td>\n",
              "      <td>11935.356153</td>\n",
              "    </tr>\n",
              "    <tr>\n",
              "      <th>min</th>\n",
              "      <td>0.000000</td>\n",
              "      <td>1.000000</td>\n",
              "      <td>18.000000</td>\n",
              "      <td>16.800000</td>\n",
              "      <td>80.000000</td>\n",
              "      <td>0.000000</td>\n",
              "      <td>1121.870000</td>\n",
              "    </tr>\n",
              "    <tr>\n",
              "      <th>25%</th>\n",
              "      <td>322.250000</td>\n",
              "      <td>323.250000</td>\n",
              "      <td>29.000000</td>\n",
              "      <td>25.825000</td>\n",
              "      <td>86.000000</td>\n",
              "      <td>0.000000</td>\n",
              "      <td>4563.177500</td>\n",
              "    </tr>\n",
              "    <tr>\n",
              "      <th>50%</th>\n",
              "      <td>674.000000</td>\n",
              "      <td>675.000000</td>\n",
              "      <td>37.000000</td>\n",
              "      <td>30.150000</td>\n",
              "      <td>92.000000</td>\n",
              "      <td>1.000000</td>\n",
              "      <td>9421.970000</td>\n",
              "    </tr>\n",
              "    <tr>\n",
              "      <th>75%</th>\n",
              "      <td>995.750000</td>\n",
              "      <td>996.750000</td>\n",
              "      <td>46.000000</td>\n",
              "      <td>34.200000</td>\n",
              "      <td>99.000000</td>\n",
              "      <td>2.000000</td>\n",
              "      <td>16107.757500</td>\n",
              "    </tr>\n",
              "    <tr>\n",
              "      <th>max</th>\n",
              "      <td>1337.000000</td>\n",
              "      <td>1338.000000</td>\n",
              "      <td>60.000000</td>\n",
              "      <td>50.400000</td>\n",
              "      <td>140.000000</td>\n",
              "      <td>5.000000</td>\n",
              "      <td>60021.400000</td>\n",
              "    </tr>\n",
              "  </tbody>\n",
              "</table>\n",
              "</div>\n",
              "      <button class=\"colab-df-convert\" onclick=\"convertToInteractive('df-0e8c8a1b-61f2-454f-802c-5d1e31cea459')\"\n",
              "              title=\"Convert this dataframe to an interactive table.\"\n",
              "              style=\"display:none;\">\n",
              "        \n",
              "  <svg xmlns=\"http://www.w3.org/2000/svg\" height=\"24px\"viewBox=\"0 0 24 24\"\n",
              "       width=\"24px\">\n",
              "    <path d=\"M0 0h24v24H0V0z\" fill=\"none\"/>\n",
              "    <path d=\"M18.56 5.44l.94 2.06.94-2.06 2.06-.94-2.06-.94-.94-2.06-.94 2.06-2.06.94zm-11 1L8.5 8.5l.94-2.06 2.06-.94-2.06-.94L8.5 2.5l-.94 2.06-2.06.94zm10 10l.94 2.06.94-2.06 2.06-.94-2.06-.94-.94-2.06-.94 2.06-2.06.94z\"/><path d=\"M17.41 7.96l-1.37-1.37c-.4-.4-.92-.59-1.43-.59-.52 0-1.04.2-1.43.59L10.3 9.45l-7.72 7.72c-.78.78-.78 2.05 0 2.83L4 21.41c.39.39.9.59 1.41.59.51 0 1.02-.2 1.41-.59l7.78-7.78 2.81-2.81c.8-.78.8-2.07 0-2.86zM5.41 20L4 18.59l7.72-7.72 1.47 1.35L5.41 20z\"/>\n",
              "  </svg>\n",
              "      </button>\n",
              "      \n",
              "  <style>\n",
              "    .colab-df-container {\n",
              "      display:flex;\n",
              "      flex-wrap:wrap;\n",
              "      gap: 12px;\n",
              "    }\n",
              "\n",
              "    .colab-df-convert {\n",
              "      background-color: #E8F0FE;\n",
              "      border: none;\n",
              "      border-radius: 50%;\n",
              "      cursor: pointer;\n",
              "      display: none;\n",
              "      fill: #1967D2;\n",
              "      height: 32px;\n",
              "      padding: 0 0 0 0;\n",
              "      width: 32px;\n",
              "    }\n",
              "\n",
              "    .colab-df-convert:hover {\n",
              "      background-color: #E2EBFA;\n",
              "      box-shadow: 0px 1px 2px rgba(60, 64, 67, 0.3), 0px 1px 3px 1px rgba(60, 64, 67, 0.15);\n",
              "      fill: #174EA6;\n",
              "    }\n",
              "\n",
              "    [theme=dark] .colab-df-convert {\n",
              "      background-color: #3B4455;\n",
              "      fill: #D2E3FC;\n",
              "    }\n",
              "\n",
              "    [theme=dark] .colab-df-convert:hover {\n",
              "      background-color: #434B5C;\n",
              "      box-shadow: 0px 1px 3px 1px rgba(0, 0, 0, 0.15);\n",
              "      filter: drop-shadow(0px 1px 2px rgba(0, 0, 0, 0.3));\n",
              "      fill: #FFFFFF;\n",
              "    }\n",
              "  </style>\n",
              "\n",
              "      <script>\n",
              "        const buttonEl =\n",
              "          document.querySelector('#df-0e8c8a1b-61f2-454f-802c-5d1e31cea459 button.colab-df-convert');\n",
              "        buttonEl.style.display =\n",
              "          google.colab.kernel.accessAllowed ? 'block' : 'none';\n",
              "\n",
              "        async function convertToInteractive(key) {\n",
              "          const element = document.querySelector('#df-0e8c8a1b-61f2-454f-802c-5d1e31cea459');\n",
              "          const dataTable =\n",
              "            await google.colab.kernel.invokeFunction('convertToInteractive',\n",
              "                                                     [key], {});\n",
              "          if (!dataTable) return;\n",
              "\n",
              "          const docLinkHtml = 'Like what you see? Visit the ' +\n",
              "            '<a target=\"_blank\" href=https://colab.research.google.com/notebooks/data_table.ipynb>data table notebook</a>'\n",
              "            + ' to learn more about interactive tables.';\n",
              "          element.innerHTML = '';\n",
              "          dataTable['output_type'] = 'display_data';\n",
              "          await google.colab.output.renderOutput(dataTable, element);\n",
              "          const docLink = document.createElement('div');\n",
              "          docLink.innerHTML = docLinkHtml;\n",
              "          element.appendChild(docLink);\n",
              "        }\n",
              "      </script>\n",
              "    </div>\n",
              "  </div>\n",
              "  "
            ]
          },
          "metadata": {},
          "execution_count": 13
        }
      ]
    },
    {
      "cell_type": "code",
      "source": [
        "insurance_n.describe()"
      ],
      "metadata": {
        "colab": {
          "base_uri": "https://localhost:8080/",
          "height": 300
        },
        "id": "weYGVDuABKgp",
        "outputId": "23d97088-9411-42a8-f310-17843ed21212"
      },
      "execution_count": null,
      "outputs": [
        {
          "output_type": "execute_result",
          "data": {
            "text/plain": [
              "             index    PatientID         age         bmi  bloodpressure  \\\n",
              "count   698.000000   698.000000  696.000000  698.000000     698.000000   \n",
              "mean    671.154728   672.154728   38.356322   30.885387      94.296562   \n",
              "std     385.665274   385.665274   11.226871    6.097506      11.239509   \n",
              "min       1.000000     2.000000   18.000000   16.000000      80.000000   \n",
              "25%     352.250000   353.250000   29.000000   26.700000      86.000000   \n",
              "50%     663.000000   664.000000   38.000000   30.600000      93.000000   \n",
              "75%    1007.750000  1008.750000   47.000000   34.900000      99.000000   \n",
              "max    1339.000000  1340.000000   60.000000   53.100000     140.000000   \n",
              "\n",
              "         children         claim  \n",
              "count  698.000000    698.000000  \n",
              "mean     1.110315  13354.031991  \n",
              "std      1.214750  12275.376160  \n",
              "min      0.000000   1131.510000  \n",
              "25%      0.000000   4891.187500  \n",
              "50%      1.000000   9274.180000  \n",
              "75%      2.000000  16862.792500  \n",
              "max      5.000000  63770.430000  "
            ],
            "text/html": [
              "\n",
              "  <div id=\"df-5a49a9ce-2543-45c8-a831-50b6ce36f628\">\n",
              "    <div class=\"colab-df-container\">\n",
              "      <div>\n",
              "<style scoped>\n",
              "    .dataframe tbody tr th:only-of-type {\n",
              "        vertical-align: middle;\n",
              "    }\n",
              "\n",
              "    .dataframe tbody tr th {\n",
              "        vertical-align: top;\n",
              "    }\n",
              "\n",
              "    .dataframe thead th {\n",
              "        text-align: right;\n",
              "    }\n",
              "</style>\n",
              "<table border=\"1\" class=\"dataframe\">\n",
              "  <thead>\n",
              "    <tr style=\"text-align: right;\">\n",
              "      <th></th>\n",
              "      <th>index</th>\n",
              "      <th>PatientID</th>\n",
              "      <th>age</th>\n",
              "      <th>bmi</th>\n",
              "      <th>bloodpressure</th>\n",
              "      <th>children</th>\n",
              "      <th>claim</th>\n",
              "    </tr>\n",
              "  </thead>\n",
              "  <tbody>\n",
              "    <tr>\n",
              "      <th>count</th>\n",
              "      <td>698.000000</td>\n",
              "      <td>698.000000</td>\n",
              "      <td>696.000000</td>\n",
              "      <td>698.000000</td>\n",
              "      <td>698.000000</td>\n",
              "      <td>698.000000</td>\n",
              "      <td>698.000000</td>\n",
              "    </tr>\n",
              "    <tr>\n",
              "      <th>mean</th>\n",
              "      <td>671.154728</td>\n",
              "      <td>672.154728</td>\n",
              "      <td>38.356322</td>\n",
              "      <td>30.885387</td>\n",
              "      <td>94.296562</td>\n",
              "      <td>1.110315</td>\n",
              "      <td>13354.031991</td>\n",
              "    </tr>\n",
              "    <tr>\n",
              "      <th>std</th>\n",
              "      <td>385.665274</td>\n",
              "      <td>385.665274</td>\n",
              "      <td>11.226871</td>\n",
              "      <td>6.097506</td>\n",
              "      <td>11.239509</td>\n",
              "      <td>1.214750</td>\n",
              "      <td>12275.376160</td>\n",
              "    </tr>\n",
              "    <tr>\n",
              "      <th>min</th>\n",
              "      <td>1.000000</td>\n",
              "      <td>2.000000</td>\n",
              "      <td>18.000000</td>\n",
              "      <td>16.000000</td>\n",
              "      <td>80.000000</td>\n",
              "      <td>0.000000</td>\n",
              "      <td>1131.510000</td>\n",
              "    </tr>\n",
              "    <tr>\n",
              "      <th>25%</th>\n",
              "      <td>352.250000</td>\n",
              "      <td>353.250000</td>\n",
              "      <td>29.000000</td>\n",
              "      <td>26.700000</td>\n",
              "      <td>86.000000</td>\n",
              "      <td>0.000000</td>\n",
              "      <td>4891.187500</td>\n",
              "    </tr>\n",
              "    <tr>\n",
              "      <th>50%</th>\n",
              "      <td>663.000000</td>\n",
              "      <td>664.000000</td>\n",
              "      <td>38.000000</td>\n",
              "      <td>30.600000</td>\n",
              "      <td>93.000000</td>\n",
              "      <td>1.000000</td>\n",
              "      <td>9274.180000</td>\n",
              "    </tr>\n",
              "    <tr>\n",
              "      <th>75%</th>\n",
              "      <td>1007.750000</td>\n",
              "      <td>1008.750000</td>\n",
              "      <td>47.000000</td>\n",
              "      <td>34.900000</td>\n",
              "      <td>99.000000</td>\n",
              "      <td>2.000000</td>\n",
              "      <td>16862.792500</td>\n",
              "    </tr>\n",
              "    <tr>\n",
              "      <th>max</th>\n",
              "      <td>1339.000000</td>\n",
              "      <td>1340.000000</td>\n",
              "      <td>60.000000</td>\n",
              "      <td>53.100000</td>\n",
              "      <td>140.000000</td>\n",
              "      <td>5.000000</td>\n",
              "      <td>63770.430000</td>\n",
              "    </tr>\n",
              "  </tbody>\n",
              "</table>\n",
              "</div>\n",
              "      <button class=\"colab-df-convert\" onclick=\"convertToInteractive('df-5a49a9ce-2543-45c8-a831-50b6ce36f628')\"\n",
              "              title=\"Convert this dataframe to an interactive table.\"\n",
              "              style=\"display:none;\">\n",
              "        \n",
              "  <svg xmlns=\"http://www.w3.org/2000/svg\" height=\"24px\"viewBox=\"0 0 24 24\"\n",
              "       width=\"24px\">\n",
              "    <path d=\"M0 0h24v24H0V0z\" fill=\"none\"/>\n",
              "    <path d=\"M18.56 5.44l.94 2.06.94-2.06 2.06-.94-2.06-.94-.94-2.06-.94 2.06-2.06.94zm-11 1L8.5 8.5l.94-2.06 2.06-.94-2.06-.94L8.5 2.5l-.94 2.06-2.06.94zm10 10l.94 2.06.94-2.06 2.06-.94-2.06-.94-.94-2.06-.94 2.06-2.06.94z\"/><path d=\"M17.41 7.96l-1.37-1.37c-.4-.4-.92-.59-1.43-.59-.52 0-1.04.2-1.43.59L10.3 9.45l-7.72 7.72c-.78.78-.78 2.05 0 2.83L4 21.41c.39.39.9.59 1.41.59.51 0 1.02-.2 1.41-.59l7.78-7.78 2.81-2.81c.8-.78.8-2.07 0-2.86zM5.41 20L4 18.59l7.72-7.72 1.47 1.35L5.41 20z\"/>\n",
              "  </svg>\n",
              "      </button>\n",
              "      \n",
              "  <style>\n",
              "    .colab-df-container {\n",
              "      display:flex;\n",
              "      flex-wrap:wrap;\n",
              "      gap: 12px;\n",
              "    }\n",
              "\n",
              "    .colab-df-convert {\n",
              "      background-color: #E8F0FE;\n",
              "      border: none;\n",
              "      border-radius: 50%;\n",
              "      cursor: pointer;\n",
              "      display: none;\n",
              "      fill: #1967D2;\n",
              "      height: 32px;\n",
              "      padding: 0 0 0 0;\n",
              "      width: 32px;\n",
              "    }\n",
              "\n",
              "    .colab-df-convert:hover {\n",
              "      background-color: #E2EBFA;\n",
              "      box-shadow: 0px 1px 2px rgba(60, 64, 67, 0.3), 0px 1px 3px 1px rgba(60, 64, 67, 0.15);\n",
              "      fill: #174EA6;\n",
              "    }\n",
              "\n",
              "    [theme=dark] .colab-df-convert {\n",
              "      background-color: #3B4455;\n",
              "      fill: #D2E3FC;\n",
              "    }\n",
              "\n",
              "    [theme=dark] .colab-df-convert:hover {\n",
              "      background-color: #434B5C;\n",
              "      box-shadow: 0px 1px 3px 1px rgba(0, 0, 0, 0.15);\n",
              "      filter: drop-shadow(0px 1px 2px rgba(0, 0, 0, 0.3));\n",
              "      fill: #FFFFFF;\n",
              "    }\n",
              "  </style>\n",
              "\n",
              "      <script>\n",
              "        const buttonEl =\n",
              "          document.querySelector('#df-5a49a9ce-2543-45c8-a831-50b6ce36f628 button.colab-df-convert');\n",
              "        buttonEl.style.display =\n",
              "          google.colab.kernel.accessAllowed ? 'block' : 'none';\n",
              "\n",
              "        async function convertToInteractive(key) {\n",
              "          const element = document.querySelector('#df-5a49a9ce-2543-45c8-a831-50b6ce36f628');\n",
              "          const dataTable =\n",
              "            await google.colab.kernel.invokeFunction('convertToInteractive',\n",
              "                                                     [key], {});\n",
              "          if (!dataTable) return;\n",
              "\n",
              "          const docLinkHtml = 'Like what you see? Visit the ' +\n",
              "            '<a target=\"_blank\" href=https://colab.research.google.com/notebooks/data_table.ipynb>data table notebook</a>'\n",
              "            + ' to learn more about interactive tables.';\n",
              "          element.innerHTML = '';\n",
              "          dataTable['output_type'] = 'display_data';\n",
              "          await google.colab.output.renderOutput(dataTable, element);\n",
              "          const docLink = document.createElement('div');\n",
              "          docLink.innerHTML = docLinkHtml;\n",
              "          element.appendChild(docLink);\n",
              "        }\n",
              "      </script>\n",
              "    </div>\n",
              "  </div>\n",
              "  "
            ]
          },
          "metadata": {},
          "execution_count": 14
        }
      ]
    },
    {
      "cell_type": "code",
      "source": [
        "# Create boxplot visual\n",
        "sns.boxplot(x= 'diabetic', y= 'claim', data=insurance)"
      ],
      "metadata": {
        "colab": {
          "base_uri": "https://localhost:8080/",
          "height": 476
        },
        "id": "RU9mMaJtIlUY",
        "outputId": "5884e01a-6c44-48c7-9e62-650201abcf53"
      },
      "execution_count": null,
      "outputs": [
        {
          "output_type": "execute_result",
          "data": {
            "text/plain": [
              "<Axes: xlabel='diabetic', ylabel='claim'>"
            ]
          },
          "metadata": {},
          "execution_count": 15
        },
        {
          "output_type": "display_data",
          "data": {
            "text/plain": [
              "<Figure size 640x480 with 1 Axes>"
            ],
            "image/png": "[encoded data removed]"
          },
          "metadata": {}
        }
      ]
    },
    {
      "cell_type": "code",
      "source": [
        "#Create histogram visual for patients with diabetes.\n",
        "sns.histplot(insurance_y[\"claim\"])"
      ],
      "metadata": {
        "colab": {
          "base_uri": "https://localhost:8080/",
          "height": 476
        },
        "id": "QXFfDhtILFds",
        "outputId": "b0f7472d-024c-4424-8d2a-cc883d2f1dfb"
      },
      "execution_count": null,
      "outputs": [
        {
          "output_type": "execute_result",
          "data": {
            "text/plain": [
              "<Axes: xlabel='claim', ylabel='Count'>"
            ]
          },
          "metadata": {},
          "execution_count": 16
        },
        {
          "output_type": "display_data",
          "data": {
            "text/plain": [
              "<Figure size 640x480 with 1 Axes>"
            ],
            "image/png": "[encoded data removed]"
          },
          "metadata": {}
        }
      ]
    },
    {
      "cell_type": "code",
      "source": [
        "# Create histogram visual for patients without diabetes.\n",
        "sns.histplot(insurance_n[\"claim\"])"
      ],
      "metadata": {
        "colab": {
          "base_uri": "https://localhost:8080/",
          "height": 476
        },
        "id": "WxXJc8Ei-UBy",
        "outputId": "140883b6-0654-4ee4-90ec-646bddbada35"
      },
      "execution_count": null,
      "outputs": [
        {
          "output_type": "execute_result",
          "data": {
            "text/plain": [
              "<Axes: xlabel='claim', ylabel='Count'>"
            ]
          },
          "metadata": {},
          "execution_count": 17
        },
        {
          "output_type": "display_data",
          "data": {
            "text/plain": [
              "<Figure size 640x480 with 1 Axes>"
            ],
            "image/png": "[encoded data removed]"
          },
          "metadata": {}
        }
      ]
    },
    {
      "cell_type": "markdown",
      "source": [
        "Conduct Analysis."
      ],
      "metadata": {
        "id": "0N_vzmNaAfeV"
      }
    },
    {
      "cell_type": "code",
      "source": [
        "# Run two sample t-test\n",
        "stats.ttest_ind(insurance_y['claim'], insurance_n['claim'])"
      ],
      "metadata": {
        "colab": {
          "base_uri": "https://localhost:8080/"
        },
        "id": "7fZLeXP3LFgm",
        "outputId": "9f8a2eab-072f-4069-cbe2-f33ef70bd377"
      },
      "execution_count": null,
      "outputs": [
        {
          "output_type": "execute_result",
          "data": {
            "text/plain": [
              "Ttest_indResult(statistic=-0.3191447336786516, pvalue=0.7496665799159533)"
            ]
          },
          "metadata": {},
          "execution_count": 18
        }
      ]
    },
    {
      "cell_type": "markdown",
      "source": [
        "Fail to reject the null hypothesis: The relationship between patients with and without diabetes and patient claims are not statistically significant. "
      ],
      "metadata": {
        "id": "kb0VAgTC9mrH"
      }
    },
    {
      "cell_type": "markdown",
      "source": [
        "Conclusion: \n",
        "\n",
        "  While analyzing this dataset and the correlation between various patient demographics and patient claims, a Pearsonr Test and TTest were used to reach a conclusion. \n",
        "\n",
        "  The first hypothesis tested was: \"There is no correlation between patients BMI and the amount made in insurance claims\". This hypothesis, tested with a Pearsonr test, was rejected. With a p value of 3.07228503031034e-13, there is a statistically significant correlation between patient BMI's and Claims. \n",
        "\n",
        "  The second hypothesis tested was: \"There is no difference in the average amount of claims for patients with diabetes as opposed to patients who do not have diabetes\". They failed to reject the null hypothesis, which was tested with a TTest. With a p value of 0.7496665799159533, there is not a statistically significant difference between patients with or without diabetes and pateint claims. \n",
        "\n",
        "  With these results, Insurance comapnies can continue to test various patient demographics that are collected for a better understanding of which patient type affects the amount they receive in claims. One of the demographics tested, patient BMI, proved to have a positive effect on claims. The second demographic tested, patients with diabetes, proved to not have an effect on claims made. This information can be helpufl in many ways. A few include, it can give insight to how they market themselves. This information can also allow them to have a better understanding of the kind of resources provided to patients. "
      ],
      "metadata": {
        "id": "qsq9QxjkAmSD"
      }
    }
  ]
}